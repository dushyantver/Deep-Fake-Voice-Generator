{
 "cells": [
  {
   "cell_type": "code",
   "execution_count": 37,
   "metadata": {},
   "outputs": [],
   "source": [
    "import librosa\n",
    "import numpy as np\n",
    "from pydub.utils import mediainfo\n",
    "import os"
   ]
  },
  {
   "cell_type": "code",
   "execution_count": 35,
   "metadata": {},
   "outputs": [],
   "source": [
    "\n",
    "def load_and_trim_audio(file_path, target_sr=16000):\n",
    "    try:\n",
    "        # Load audio file\n",
    "        audio, sr = librosa.load(file_path, sr=target_sr)\n",
    "        # Trim leading and trailing silence\n",
    "        trimmed_audio, _ = librosa.effects.trim(audio)\n",
    "        return trimmed_audio, sr\n",
    "    except Exception as e:\n",
    "        print(f\"Error loading {file_path}: {e}\")\n",
    "        return None, None"
   ]
  },
  {
   "cell_type": "code",
   "execution_count": 4,
   "metadata": {},
   "outputs": [],
   "source": [
    "def normalize_audio(audio):\n",
    "    return librosa.util.normalize(audio)\n"
   ]
  },
  {
   "cell_type": "code",
   "execution_count": 5,
   "metadata": {},
   "outputs": [],
   "source": [
    "def segment_audio(audio, segment_length=3, sr=16000):\n",
    "    segment_samples = segment_length * sr\n",
    "    segments = [audio[i:i + segment_samples] for i in range(0, len(audio), segment_samples)]\n",
    "    return segments\n"
   ]
  },
  {
   "cell_type": "code",
   "execution_count": 60,
   "metadata": {},
   "outputs": [],
   "source": [
    "def extract_mel_spectrogram(audio, sr, n_mels=128, hop_length=256):\n",
    "    # Compute mel spectrogram\n",
    "    mel_spectrogram = librosa.feature.melspectrogram(y=audio, sr=sr, n_mels=n_mels, hop_length=hop_length)\n",
    "    mel_spectrogram_db = librosa.power_to_db(mel_spectrogram, ref=np.max)\n",
    "    return mel_spectrogram_db"
   ]
  },
  {
   "cell_type": "code",
   "execution_count": 61,
   "metadata": {},
   "outputs": [],
   "source": [
    "def pitch_shift(audio, sr, n_steps):\n",
    "    return librosa.effects.pitch_shift(audio, sr, n_steps=n_steps)\n",
    "\n",
    "def time_stretch(audio, rate):\n",
    "    return librosa.effects.time_stretch(audio, rate)\n"
   ]
  },
  {
   "cell_type": "code",
   "execution_count": 62,
   "metadata": {},
   "outputs": [],
   "source": [
    "def is_audio_file(file_path):\n",
    "    audio_extensions = ['.wav', '.mp3', '.flac', '.ogg', '.aac', '.m4a']\n",
    "    ext = os.path.splitext(file_path)[1].lower()\n",
    "    return ext in audio_extensions"
   ]
  },
  {
   "cell_type": "code",
   "execution_count": 63,
   "metadata": {},
   "outputs": [],
   "source": [
    "def preprocess_dataset(input_folder, output_folder, target_sr=16000):\n",
    "    print(f\"Input folder: {input_folder}\")  # Debugging line\n",
    "    if not os.path.exists(output_folder):\n",
    "        os.makedirs(output_folder)\n",
    "\n",
    "    for file_name in os.listdir(input_folder):\n",
    "        print(file_name)\n",
    "        file_path = os.path.join(input_folder, file_name)\n",
    "        print(f\"file path is :{file_path}\")\n",
    "    \n",
    "        if is_audio_file(file_path):  # Ensure it's an audio file\n",
    "            try:\n",
    "                audio, sr = load_and_trim_audio(file_path, target_sr)\n",
    "                if audio is None:\n",
    "                    continue\n",
    "                audio = normalize_audio(audio)\n",
    "                segments = segment_audio(audio, segment_length=3, sr=sr)\n",
    "                \n",
    "                for i, segment in enumerate(segments):\n",
    "                    mel_spectrogram = extract_mel_spectrogram(segment, sr)\n",
    "                    output_file_path = os.path.join(output_folder, f\"{os.path.splitext(file_name)[0]}_segment_{i}.npy\")\n",
    "                    np.save(output_file_path, mel_spectrogram)\n",
    "            except Exception as e:\n",
    "                print(f\"Error processing {file_path}: {e}\")\n"
   ]
  },
  {
   "cell_type": "code",
   "execution_count": 64,
   "metadata": {},
   "outputs": [
    {
     "data": {
      "text/plain": [
       "['2902-9006-0000.flac',\n",
       " '2902-9006-0001.flac',\n",
       " '2902-9006-0002.flac',\n",
       " '2902-9006-0003.flac',\n",
       " '2902-9006-0004.flac',\n",
       " '2902-9006-0005.flac',\n",
       " '2902-9006-0006.flac',\n",
       " '2902-9006-0007.flac',\n",
       " '2902-9006-0008.flac',\n",
       " '2902-9006-0009.flac',\n",
       " '2902-9006-0010.flac',\n",
       " '2902-9006-0011.flac',\n",
       " '2902-9006-0012.flac',\n",
       " '2902-9006-0013.flac',\n",
       " '2902-9006-0014.flac',\n",
       " '2902-9006-0015.flac',\n",
       " '2902-9006-0016.flac',\n",
       " '2902-9006-0017.flac',\n",
       " '2902-9006-0018.flac',\n",
       " '2902-9006-0019.flac',\n",
       " '2902-9006-0020.flac']"
      ]
     },
     "execution_count": 64,
     "metadata": {},
     "output_type": "execute_result"
    }
   ],
   "source": [
    "os.listdir(\"D:\\Data_analytics_new\\Omdena\\Autoshield\\Deep-Fake-Voice-Generator\\data\\\\voice\\\\9006\")"
   ]
  },
  {
   "cell_type": "code",
   "execution_count": null,
   "metadata": {},
   "outputs": [],
   "source": []
  },
  {
   "cell_type": "code",
   "execution_count": 65,
   "metadata": {},
   "outputs": [
    {
     "name": "stdout",
     "output_type": "stream",
     "text": [
      "Input folder: D:\\Data_analytics_new\\Omdena\\Autoshield\\Deep-Fake-Voice-Generator\\data\\voice\\9006\n",
      "2902-9006-0000.flac\n",
      "file path is :D:\\Data_analytics_new\\Omdena\\Autoshield\\Deep-Fake-Voice-Generator\\data\\voice\\9006\\2902-9006-0000.flac\n",
      "2902-9006-0001.flac\n",
      "file path is :D:\\Data_analytics_new\\Omdena\\Autoshield\\Deep-Fake-Voice-Generator\\data\\voice\\9006\\2902-9006-0001.flac\n",
      "2902-9006-0002.flac\n",
      "file path is :D:\\Data_analytics_new\\Omdena\\Autoshield\\Deep-Fake-Voice-Generator\\data\\voice\\9006\\2902-9006-0002.flac\n",
      "2902-9006-0003.flac\n",
      "file path is :D:\\Data_analytics_new\\Omdena\\Autoshield\\Deep-Fake-Voice-Generator\\data\\voice\\9006\\2902-9006-0003.flac\n",
      "2902-9006-0004.flac\n",
      "file path is :D:\\Data_analytics_new\\Omdena\\Autoshield\\Deep-Fake-Voice-Generator\\data\\voice\\9006\\2902-9006-0004.flac\n",
      "2902-9006-0005.flac\n",
      "file path is :D:\\Data_analytics_new\\Omdena\\Autoshield\\Deep-Fake-Voice-Generator\\data\\voice\\9006\\2902-9006-0005.flac\n",
      "2902-9006-0006.flac\n",
      "file path is :D:\\Data_analytics_new\\Omdena\\Autoshield\\Deep-Fake-Voice-Generator\\data\\voice\\9006\\2902-9006-0006.flac\n",
      "2902-9006-0007.flac\n",
      "file path is :D:\\Data_analytics_new\\Omdena\\Autoshield\\Deep-Fake-Voice-Generator\\data\\voice\\9006\\2902-9006-0007.flac\n",
      "2902-9006-0008.flac\n",
      "file path is :D:\\Data_analytics_new\\Omdena\\Autoshield\\Deep-Fake-Voice-Generator\\data\\voice\\9006\\2902-9006-0008.flac\n",
      "2902-9006-0009.flac\n",
      "file path is :D:\\Data_analytics_new\\Omdena\\Autoshield\\Deep-Fake-Voice-Generator\\data\\voice\\9006\\2902-9006-0009.flac\n",
      "2902-9006-0010.flac\n",
      "file path is :D:\\Data_analytics_new\\Omdena\\Autoshield\\Deep-Fake-Voice-Generator\\data\\voice\\9006\\2902-9006-0010.flac\n",
      "2902-9006-0011.flac\n",
      "file path is :D:\\Data_analytics_new\\Omdena\\Autoshield\\Deep-Fake-Voice-Generator\\data\\voice\\9006\\2902-9006-0011.flac\n",
      "2902-9006-0012.flac\n",
      "file path is :D:\\Data_analytics_new\\Omdena\\Autoshield\\Deep-Fake-Voice-Generator\\data\\voice\\9006\\2902-9006-0012.flac\n",
      "2902-9006-0013.flac\n",
      "file path is :D:\\Data_analytics_new\\Omdena\\Autoshield\\Deep-Fake-Voice-Generator\\data\\voice\\9006\\2902-9006-0013.flac\n",
      "2902-9006-0014.flac\n",
      "file path is :D:\\Data_analytics_new\\Omdena\\Autoshield\\Deep-Fake-Voice-Generator\\data\\voice\\9006\\2902-9006-0014.flac\n",
      "2902-9006-0015.flac\n",
      "file path is :D:\\Data_analytics_new\\Omdena\\Autoshield\\Deep-Fake-Voice-Generator\\data\\voice\\9006\\2902-9006-0015.flac\n",
      "2902-9006-0016.flac\n",
      "file path is :D:\\Data_analytics_new\\Omdena\\Autoshield\\Deep-Fake-Voice-Generator\\data\\voice\\9006\\2902-9006-0016.flac\n",
      "2902-9006-0017.flac\n",
      "file path is :D:\\Data_analytics_new\\Omdena\\Autoshield\\Deep-Fake-Voice-Generator\\data\\voice\\9006\\2902-9006-0017.flac\n"
     ]
    },
    {
     "name": "stderr",
     "output_type": "stream",
     "text": [
      "d:\\Data_analytics_new\\Omdena\\Autoshield\\Deep-Fake-Voice-Generator\\venv\\lib\\site-packages\\librosa\\core\\spectrum.py:266: UserWarning: n_fft=2048 is too large for input signal of length=320\n",
      "  warnings.warn(\n"
     ]
    },
    {
     "name": "stdout",
     "output_type": "stream",
     "text": [
      "2902-9006-0018.flac\n",
      "file path is :D:\\Data_analytics_new\\Omdena\\Autoshield\\Deep-Fake-Voice-Generator\\data\\voice\\9006\\2902-9006-0018.flac\n",
      "2902-9006-0019.flac\n",
      "file path is :D:\\Data_analytics_new\\Omdena\\Autoshield\\Deep-Fake-Voice-Generator\\data\\voice\\9006\\2902-9006-0019.flac\n",
      "2902-9006-0020.flac\n",
      "file path is :D:\\Data_analytics_new\\Omdena\\Autoshield\\Deep-Fake-Voice-Generator\\data\\voice\\9006\\2902-9006-0020.flac\n"
     ]
    }
   ],
   "source": [
    "\n",
    "input_folder = \"D:\\Data_analytics_new\\Omdena\\Autoshield\\Deep-Fake-Voice-Generator\\data\\\\voice\\\\9006\"\n",
    "output_folder = 'preprocessed_data'\n",
    "preprocess_dataset(input_folder, output_folder)"
   ]
  },
  {
   "cell_type": "code",
   "execution_count": 49,
   "metadata": {},
   "outputs": [
    {
     "data": {
      "text/plain": [
       "False"
      ]
     },
     "execution_count": 49,
     "metadata": {},
     "output_type": "execute_result"
    }
   ],
   "source": [
    "os.path.isfile(\"D:\\Data_analytics_new\\Omdena\\Autoshield\\Deep-Fake-Voice-Generator\\data\\voice\\9006\")"
   ]
  },
  {
   "cell_type": "code",
   "execution_count": 50,
   "metadata": {},
   "outputs": [
    {
     "name": "stderr",
     "output_type": "stream",
     "text": [
      "d:\\Data_analytics_new\\Omdena\\Autoshield\\Deep-Fake-Voice-Generator\\venv\\lib\\site-packages\\pydub\\utils.py:198: RuntimeWarning: Couldn't find ffprobe or avprobe - defaulting to ffprobe, but may not work\n",
      "  warn(\"Couldn't find ffprobe or avprobe - defaulting to ffprobe, but may not work\", RuntimeWarning)\n"
     ]
    },
    {
     "data": {
      "text/plain": [
       "False"
      ]
     },
     "execution_count": 50,
     "metadata": {},
     "output_type": "execute_result"
    }
   ],
   "source": [
    "is_audio_file(\"D:\\Data_analytics_new\\Omdena\\Autoshield\\Deep-Fake-Voice-Generator\\data\\voice\\9006\")"
   ]
  },
  {
   "cell_type": "code",
   "execution_count": null,
   "metadata": {},
   "outputs": [],
   "source": []
  }
 ],
 "metadata": {
  "kernelspec": {
   "display_name": "Python 3",
   "language": "python",
   "name": "python3"
  },
  "language_info": {
   "codemirror_mode": {
    "name": "ipython",
    "version": 3
   },
   "file_extension": ".py",
   "mimetype": "text/x-python",
   "name": "python",
   "nbconvert_exporter": "python",
   "pygments_lexer": "ipython3",
   "version": "3.8.19"
  }
 },
 "nbformat": 4,
 "nbformat_minor": 2
}
